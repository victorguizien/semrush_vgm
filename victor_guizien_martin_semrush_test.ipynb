{
 "cells": [
  {
   "cell_type": "code",
   "execution_count": 1,
   "id": "1648a48e",
   "metadata": {
    "ExecuteTime": {
     "end_time": "2024-10-05T16:47:51.743654Z",
     "start_time": "2024-10-05T16:47:51.687503Z"
    }
   },
   "outputs": [],
   "source": [
    "%load_ext autoreload\n",
    "%autoreload 2"
   ]
  },
  {
   "cell_type": "markdown",
   "id": "3a34ae99",
   "metadata": {},
   "source": [
    "# Load data"
   ]
  },
  {
   "cell_type": "code",
   "execution_count": 3,
   "id": "a992cc92",
   "metadata": {
    "ExecuteTime": {
     "end_time": "2024-10-05T16:47:52.899454Z",
     "start_time": "2024-10-05T16:47:52.553981Z"
    }
   },
   "outputs": [
    {
     "ename": "ModuleNotFoundError",
     "evalue": "No module named 'src'",
     "output_type": "error",
     "traceback": [
      "\u001b[1;31m---------------------------------------------------------------------------\u001b[0m",
      "\u001b[1;31mModuleNotFoundError\u001b[0m                       Traceback (most recent call last)",
      "Cell \u001b[1;32mIn[3], line 1\u001b[0m\n\u001b[1;32m----> 1\u001b[0m \u001b[38;5;28;01mfrom\u001b[39;00m \u001b[38;5;21;01msrc\u001b[39;00m\u001b[38;5;21;01m.\u001b[39;00m\u001b[38;5;21;01mloader\u001b[39;00m \u001b[38;5;28;01mimport\u001b[39;00m load_and_clean\n\u001b[0;32m      3\u001b[0m \u001b[38;5;66;03m# Load, clean and covert anual subs to monthly\u001b[39;00m\n\u001b[0;32m      4\u001b[0m df, df_transactions \u001b[38;5;241m=\u001b[39m load_and_clean()\n",
      "\u001b[1;31mModuleNotFoundError\u001b[0m: No module named 'src'"
     ]
    }
   ],
   "source": [
    "from src.loader import load_and_clean\n",
    "\n",
    "# Load, clean and covert anual subs to monthly\n",
    "df, df_transactions = load_and_clean()\n",
    "df_last_month = df.loc[\n",
    "    (df['mrr_month'].dt.year == 2017)\n",
    "    & (df['mrr_month'].dt.month == 12)\n",
    "]"
   ]
  },
  {
   "cell_type": "markdown",
   "id": "19be27c0",
   "metadata": {},
   "source": [
    "# Distribution and size"
   ]
  },
  {
   "cell_type": "markdown",
   "id": "9075aa96",
   "metadata": {},
   "source": [
    "> Each row seems to be one payment / transaction."
   ]
  },
  {
   "cell_type": "markdown",
   "id": "b2a0fdcc",
   "metadata": {},
   "source": [
    "_How are users distributed?_"
   ]
  },
  {
   "cell_type": "code",
   "execution_count": null,
   "id": "d5e88222",
   "metadata": {
    "ExecuteTime": {
     "end_time": "2024-10-05T16:41:19.221043Z",
     "start_time": "2024-10-05T16:41:19.221043Z"
    }
   },
   "outputs": [],
   "source": [
    "from src.plot import country_order, product_order, plot_simple_pie_chart, colors_pie_product"
   ]
  },
  {
   "cell_type": "code",
   "execution_count": null,
   "id": "5b6b33ab",
   "metadata": {
    "ExecuteTime": {
     "end_time": "2024-10-05T16:41:19.223043Z",
     "start_time": "2024-10-05T16:41:19.223043Z"
    },
    "scrolled": true
   },
   "outputs": [],
   "source": [
    "counts_aux = df.groupby(['billingCountry'])['userId'].nunique()\n",
    "tot = sum(df.groupby(['billingCountry'])['userId'].nunique())\n",
    "counts = (counts_aux/tot * 100).reindex(country_order)\n",
    "\n",
    "plot_simple_pie_chart(counts, title='Nº of historical users by countries')"
   ]
  },
  {
   "cell_type": "markdown",
   "id": "8ecdac31",
   "metadata": {},
   "source": [
    "> US, UK and France lead the market share. India is a close 4th while Canada lags behind."
   ]
  },
  {
   "cell_type": "markdown",
   "id": "ea7a1a0d",
   "metadata": {},
   "source": [
    "_Which country generates the most revenue?_"
   ]
  },
  {
   "cell_type": "code",
   "execution_count": null,
   "id": "d9e2a1c7",
   "metadata": {
    "ExecuteTime": {
     "end_time": "2024-10-05T16:41:19.224044Z",
     "start_time": "2024-10-05T16:41:19.224044Z"
    }
   },
   "outputs": [],
   "source": [
    "counts = df.groupby(['billingCountry'])['mrr'].sum().reindex(country_order)\n",
    "plot_simple_pie_chart(counts, title='Distribution of revenue per country (total)')"
   ]
  },
  {
   "cell_type": "markdown",
   "id": "ebed5b19",
   "metadata": {},
   "source": [
    "> US and UK account for 50% of the total revenue."
   ]
  },
  {
   "cell_type": "markdown",
   "id": "d4189c74",
   "metadata": {},
   "source": [
    "_How are products distributed globally?_ (last month)"
   ]
  },
  {
   "cell_type": "code",
   "execution_count": null,
   "id": "b6c9812b",
   "metadata": {
    "ExecuteTime": {
     "end_time": "2024-10-05T16:41:19.225043Z",
     "start_time": "2024-10-05T16:41:19.225043Z"
    },
    "scrolled": false
   },
   "outputs": [],
   "source": [
    "counts = df_last_month['product'].value_counts(normalize=True).reindex(product_order)\n",
    "plot_simple_pie_chart(counts, title='Distribution of Products', color_palette=colors_pie_product)"
   ]
  },
  {
   "cell_type": "markdown",
   "id": "3bb96452",
   "metadata": {},
   "source": [
    "> In the last month of data, we can see that GURU product accounts for more than half the active subscriptions"
   ]
  },
  {
   "cell_type": "markdown",
   "id": "4dd2858d",
   "metadata": {},
   "source": [
    "_What product brings the more revenuve globally?_ (last month)"
   ]
  },
  {
   "cell_type": "code",
   "execution_count": null,
   "id": "e825a41b",
   "metadata": {
    "ExecuteTime": {
     "end_time": "2024-10-05T16:41:19.226551Z",
     "start_time": "2024-10-05T16:41:19.226551Z"
    },
    "scrolled": true
   },
   "outputs": [],
   "source": [
    "counts = df.groupby(['product'])['mrr'].sum().reindex(product_order)\n",
    "plot_simple_pie_chart(counts, title='Distribution of revenue per product (total)', color_palette=colors_pie_product)"
   ]
  },
  {
   "cell_type": "markdown",
   "id": "ad3e5066",
   "metadata": {},
   "source": [
    "> While BUSINESS only accounts for 4.8% of total subscriptions in the last months, it represents 17% of the total revenue in that month."
   ]
  },
  {
   "cell_type": "markdown",
   "id": "8e0ee14d",
   "metadata": {},
   "source": [
    "# Product and period over time"
   ]
  },
  {
   "cell_type": "code",
   "execution_count": null,
   "id": "e4f8bb47",
   "metadata": {
    "ExecuteTime": {
     "end_time": "2024-10-05T16:41:19.227559Z",
     "start_time": "2024-10-05T16:41:19.227559Z"
    }
   },
   "outputs": [],
   "source": [
    "import pandas as pd\n",
    "from src.processing import calculate_proportions\n",
    "from src.plot import plot_compare, color_dict_product"
   ]
  },
  {
   "cell_type": "code",
   "execution_count": null,
   "id": "aade76c4",
   "metadata": {
    "ExecuteTime": {
     "end_time": "2024-10-05T16:41:19.229559Z",
     "start_time": "2024-10-05T16:41:19.229559Z"
    }
   },
   "outputs": [],
   "source": [
    "df_tmp = df.copy()\n",
    "df_tmp_transactions = df_transactions.copy()"
   ]
  },
  {
   "cell_type": "code",
   "execution_count": null,
   "id": "2f4e7cce",
   "metadata": {
    "ExecuteTime": {
     "end_time": "2024-10-05T16:41:19.230559Z",
     "start_time": "2024-10-05T16:41:19.230559Z"
    },
    "scrolled": false
   },
   "outputs": [],
   "source": [
    "# By product\n",
    "group_cols = ['product']\n",
    "hue_col = 'product'\n",
    "title = 'Global'\n",
    "\n",
    "df_active_users = calculate_proportions(df=df_tmp, date_col='mrr_month', group_cols=group_cols)\n",
    "df_transactions_aux = (\n",
    "    df_tmp_transactions\n",
    "    .set_index('datetime')\n",
    "    .groupby([pd.Grouper(freq='MS')] + group_cols)\n",
    "    .size()\n",
    "    .reset_index()\n",
    "    .rename(columns={0: 'n', 'datetime': 'mrr_month'})\n",
    ")\n",
    "df_amount = df_tmp.set_index('mrr_month').groupby([pd.Grouper(freq='MS')] + group_cols)['amount'].sum().reset_index()\n",
    "plot_compare(\n",
    "    df_active_users=df_active_users,\n",
    "    df_transactions=df_transactions_aux,\n",
    "    df_amount=df_amount,\n",
    "    x_col='mrr_month',\n",
    "    title=title,\n",
    "    hue_col=hue_col,\n",
    "    hue_order=product_order,\n",
    "    hue_color_dict=color_dict_product,\n",
    ")\n",
    "df_amount['pct'] = df_amount.groupby('mrr_month')['amount'].apply(lambda x: (x / x.sum()) * 100).values\n",
    "print(df_amount.loc[df_amount['mrr_month'] == df_amount['mrr_month'].max()])\n",
    "\n",
    "\n",
    "# By period\n",
    "group_cols = ['period']\n",
    "hue_col = 'period'\n",
    "\n",
    "df_active_users = calculate_proportions(df=df_tmp, date_col='mrr_month', group_cols=group_cols)\n",
    "df_transactions_aux = (\n",
    "    df_tmp_transactions\n",
    "    .set_index('datetime')\n",
    "    .groupby([pd.Grouper(freq='MS')] + group_cols)\n",
    "    .size()\n",
    "    .reset_index()\n",
    "    .rename(columns={0: 'n', 'datetime': 'mrr_month'})\n",
    ")\n",
    "df_amount = df_tmp.set_index('mrr_month').groupby([pd.Grouper(freq='MS')] + group_cols)['amount'].sum().reset_index()\n",
    "plot_compare(\n",
    "    df_active_users=df_active_users,\n",
    "    df_transactions=df_transactions_aux,\n",
    "    df_amount=df_amount,\n",
    "    x_col='mrr_month',\n",
    "    title=title,\n",
    "    hue_col=hue_col,\n",
    ")\n",
    "df_amount['pct'] = df_amount.groupby('mrr_month')['amount'].apply(lambda x: (x / x.sum()) * 100).values\n",
    "print(df_amount.loc[df_amount['mrr_month'] == df_amount['mrr_month'].max()])"
   ]
  },
  {
   "cell_type": "markdown",
   "id": "768d3f0b",
   "metadata": {},
   "source": [
    "> Globally, we can see that from 2017 there is a clear shift in trend from PRO to GURU products.\n",
    "\n",
    "> At the end of 2018, we can see another shift in transactions, shifting again from GURU to PRO.\n",
    "\n",
    "> For monthly subscriptions, the impact of transaction slowdown is immediate in the following month when observing active subscriptions. The fact that we can see a downward trend on active subscriptions (be it from PRO or GURU products) a month later already tells us that the majority of users are only subbed for one month.\n",
    "\n",
    "> Focusing on MRR, we can see that the anual subscribers bring in a lot more revenue that monthly subscribers (in the last month, 96% of the revenue was from anual subscriptions). By product, 'GURU' brings 2/3 of the revenue in the last month.\n",
    "\n",
    "> Again looking at MRR, GURU is the most profitable product by quite a margin."
   ]
  },
  {
   "cell_type": "markdown",
   "id": "2f72e29f",
   "metadata": {},
   "source": [
    "##### Combined plot"
   ]
  },
  {
   "cell_type": "code",
   "execution_count": null,
   "id": "0a8e5c3e",
   "metadata": {
    "ExecuteTime": {
     "end_time": "2024-10-05T16:41:19.231558Z",
     "start_time": "2024-10-05T16:41:19.231558Z"
    }
   },
   "outputs": [],
   "source": [
    "df_tmp = df.copy()\n",
    "df_tmp_transactions = df_transactions.copy()\n",
    "\n",
    "group_cols = ['product', 'period']\n",
    "hue_col = 'product'\n",
    "title = 'Global'\n",
    "\n",
    "df_active_users = calculate_proportions(df=df_tmp, date_col='mrr_month', group_cols=group_cols)\n",
    "\n",
    "df_transactions_aux = (\n",
    "    df_tmp_transactions\n",
    "    .set_index('datetime')\n",
    "    .groupby([pd.Grouper(freq='MS')] + group_cols)\n",
    "    .size()\n",
    "    .reset_index()\n",
    "    .rename(columns={0: 'n', 'datetime': 'mrr_month'})\n",
    ")\n",
    "\n",
    "df_amount = df_tmp.set_index('mrr_month').groupby([pd.Grouper(freq='MS')] + group_cols)['amount'].sum().reset_index()\n",
    "\n",
    "plot_compare(\n",
    "    df_active_users=df_active_users,\n",
    "    df_transactions=df_transactions_aux,\n",
    "    df_amount=df_amount,\n",
    "    x_col='mrr_month',\n",
    "    title=title,\n",
    "    hue_col=hue_col,\n",
    "    hue_order=product_order,\n",
    "    hue_color_dict=color_dict_product,\n",
    "    b_detail_period=True,\n",
    "    figsize=(15,4),\n",
    "    dpi=200,\n",
    ")"
   ]
  },
  {
   "cell_type": "markdown",
   "id": "04c69a4e",
   "metadata": {},
   "source": [
    "> As expected, the dotted lines correlate by 1 month between transactions and active subscriptions\n",
    "\n",
    "Going product by product\n",
    "\n",
    "1. PRO:\n",
    "    - Anual transactions slowdown but strong monthly uptrend. These will salvage a few month of MRR in the short term, but long term will be impacted.\n",
    "2. GURU:    \n",
    "    - Both anual and monthly transactions are slowing down, we can expect a drop in MRR in the following months.\n",
    "3. BUSINESS:\n",
    "    - Both anual and monthly transactions are also slowing down, we can also expect a dro in MRR in the following months."
   ]
  },
  {
   "cell_type": "markdown",
   "id": "355acfb5",
   "metadata": {},
   "source": [
    "# Last year"
   ]
  },
  {
   "cell_type": "markdown",
   "id": "f9137338",
   "metadata": {},
   "source": [
    "> We can focus on last year to confirm what we assesed from above"
   ]
  },
  {
   "cell_type": "code",
   "execution_count": null,
   "id": "3c5a7b93",
   "metadata": {
    "ExecuteTime": {
     "end_time": "2024-10-05T16:41:19.232560Z",
     "start_time": "2024-10-05T16:41:19.232560Z"
    }
   },
   "outputs": [],
   "source": [
    "df_tmp = df.loc[df['mrr_month'].dt.year == 2017].copy()\n",
    "df_tmp_transactions = df_transactions.loc[df_transactions['datetime'].dt.year == 2017]\n",
    "\n",
    "# By product\n",
    "group_cols = ['product', 'period']\n",
    "hue_col = 'product'\n",
    "title = 'Global'\n",
    "\n",
    "df_active_users = calculate_proportions(df=df_tmp, date_col='mrr_month', group_cols=group_cols)\n",
    "\n",
    "df_transactions_aux = (\n",
    "    df_tmp_transactions\n",
    "    .set_index('datetime')\n",
    "    .groupby([pd.Grouper(freq='MS')] + group_cols)\n",
    "    .size()\n",
    "    .reset_index()\n",
    "    .rename(columns={0: 'n', 'datetime': 'mrr_month'})\n",
    ")\n",
    "\n",
    "df_amount = df_tmp.set_index('mrr_month').groupby([pd.Grouper(freq='MS')] + group_cols)['amount'].sum().reset_index()\n",
    "\n",
    "plot_compare(\n",
    "    df_active_users=df_active_users,\n",
    "    df_transactions=df_transactions_aux,\n",
    "    df_amount=df_amount,\n",
    "    x_col='mrr_month',\n",
    "    title=title,\n",
    "    hue_col=hue_col,\n",
    "    hue_order=product_order,\n",
    "    hue_color_dict=color_dict_product,\n",
    "    b_detail_period=True,\n",
    "    figsize=(15,4),\n",
    "    dpi=200,\n",
    ")"
   ]
  },
  {
   "cell_type": "markdown",
   "id": "0a70acd4",
   "metadata": {},
   "source": [
    "> Focusing on last year, we can see that the number of transactions for monthly users has a peak in sept. 2017\n",
    "> MRR of GURU products slowdowns from oct, which makes sense due to transactions slowding down from sept."
   ]
  },
  {
   "cell_type": "markdown",
   "id": "fa00e478",
   "metadata": {},
   "source": [
    "*This is the same plot but spearating the monthly and anual subscriptions*"
   ]
  },
  {
   "cell_type": "code",
   "execution_count": null,
   "id": "dde702f8",
   "metadata": {
    "ExecuteTime": {
     "end_time": "2024-10-05T16:41:19.234559Z",
     "start_time": "2024-10-05T16:41:19.234559Z"
    }
   },
   "outputs": [],
   "source": [
    "from src.plot import plot_anual_vs_monthly_by_product"
   ]
  },
  {
   "cell_type": "code",
   "execution_count": null,
   "id": "f7dd3d8c",
   "metadata": {
    "ExecuteTime": {
     "end_time": "2024-10-05T16:41:19.236066Z",
     "start_time": "2024-10-05T16:41:19.236066Z"
    }
   },
   "outputs": [],
   "source": [
    "plot_anual_vs_monthly_by_product(df, df_transactions, 2017, product_order, color_dict_product)"
   ]
  },
  {
   "cell_type": "markdown",
   "id": "88b64671",
   "metadata": {},
   "source": [
    "> We can only confirm what we said earlier for each product"
   ]
  },
  {
   "cell_type": "markdown",
   "id": "844da0b6",
   "metadata": {},
   "source": [
    "# Forecast"
   ]
  },
  {
   "cell_type": "markdown",
   "id": "e1f29ef5",
   "metadata": {},
   "source": [
    "## Baseline"
   ]
  },
  {
   "cell_type": "code",
   "execution_count": null,
   "id": "af9f9ee2",
   "metadata": {
    "ExecuteTime": {
     "end_time": "2024-10-05T16:41:19.237074Z",
     "start_time": "2024-10-05T16:41:19.237074Z"
    }
   },
   "outputs": [],
   "source": [
    "from src.model import get_baseline_predictions, display_baseline_metrics_and_predictions\n",
    "from src.plot import plot_baseline_predictions"
   ]
  },
  {
   "cell_type": "markdown",
   "id": "c1f5aaf3",
   "metadata": {},
   "source": [
    "**Predictions**"
   ]
  },
  {
   "cell_type": "code",
   "execution_count": null,
   "id": "5ef36e0e",
   "metadata": {
    "ExecuteTime": {
     "end_time": "2024-10-05T16:41:19.238073Z",
     "start_time": "2024-10-05T16:41:19.238073Z"
    }
   },
   "outputs": [],
   "source": [
    "mrr_monthly = df.groupby([pd.Grouper(key='mrr_month', freq='MS'), 'product'])['mrr'].sum().unstack().fillna(0)\n",
    "baseline_metrics, baseline_predictions, baseline_future_predictions = get_baseline_predictions(mrr_monthly=mrr_monthly)"
   ]
  },
  {
   "cell_type": "markdown",
   "id": "31f557c0",
   "metadata": {},
   "source": [
    "__Results__"
   ]
  },
  {
   "cell_type": "code",
   "execution_count": null,
   "id": "fbef2cf4",
   "metadata": {
    "ExecuteTime": {
     "end_time": "2024-10-05T16:41:19.239076Z",
     "start_time": "2024-10-05T16:41:19.239076Z"
    },
    "scrolled": false
   },
   "outputs": [],
   "source": [
    "palette = [\n",
    "    'lightblue',\n",
    "    '#370031ff',\n",
    "    'darkblue',\n",
    "    '#ce8964ff',\n",
    "    '#04E762',\n",
    "]\n",
    "\n",
    "plot_baseline_predictions(baseline_predictions, baseline_future_predictions, product_order, palette=palette)"
   ]
  },
  {
   "cell_type": "markdown",
   "id": "78929b21",
   "metadata": {
    "ExecuteTime": {
     "end_time": "2024-10-05T10:11:20.213969Z",
     "start_time": "2024-10-05T10:11:20.121758Z"
    }
   },
   "source": [
    "**Metrics**"
   ]
  },
  {
   "cell_type": "code",
   "execution_count": null,
   "id": "5fd21b87",
   "metadata": {
    "ExecuteTime": {
     "end_time": "2024-10-05T16:41:19.241075Z",
     "start_time": "2024-10-05T16:41:19.241075Z"
    },
    "scrolled": true
   },
   "outputs": [],
   "source": [
    "display_baseline_metrics_and_predictions(baseline_metrics, baseline_future_predictions)"
   ]
  },
  {
   "cell_type": "markdown",
   "id": "3eb80d5c",
   "metadata": {},
   "source": [
    "## SARIMAX"
   ]
  },
  {
   "cell_type": "code",
   "execution_count": null,
   "id": "4e1a3d5b",
   "metadata": {
    "ExecuteTime": {
     "end_time": "2024-10-05T16:41:19.242073Z",
     "start_time": "2024-10-05T16:41:19.242073Z"
    }
   },
   "outputs": [],
   "source": [
    "from src.model import get_sarima_predictions, display_sarima_metrics_and_predictions\n",
    "from src.plot import plot_sarima_predictions"
   ]
  },
  {
   "cell_type": "markdown",
   "id": "d31e0ad2",
   "metadata": {},
   "source": [
    "**Predictions**"
   ]
  },
  {
   "cell_type": "code",
   "execution_count": null,
   "id": "062b1d51",
   "metadata": {
    "ExecuteTime": {
     "end_time": "2024-10-05T16:41:19.243074Z",
     "start_time": "2024-10-05T16:41:19.243074Z"
    }
   },
   "outputs": [],
   "source": [
    "mrr_monthly = df.groupby([pd.Grouper(key='mrr_month', freq='MS'), 'product'])['mrr'].sum().unstack().fillna(0)\n",
    "sarima_metrics, sarima_forecasts, sarima_observed = get_sarima_predictions(mrr_monthly)"
   ]
  },
  {
   "cell_type": "markdown",
   "id": "2cdedd8a",
   "metadata": {},
   "source": [
    "**Plot**"
   ]
  },
  {
   "cell_type": "code",
   "execution_count": null,
   "id": "71dc1838",
   "metadata": {
    "ExecuteTime": {
     "end_time": "2024-10-05T16:41:19.244074Z",
     "start_time": "2024-10-05T16:41:19.244074Z"
    },
    "scrolled": false
   },
   "outputs": [],
   "source": [
    "plot_sarima_predictions(sarima_observed, sarima_forecasts)"
   ]
  },
  {
   "cell_type": "markdown",
   "id": "548f35a7",
   "metadata": {},
   "source": [
    "**Metrics**"
   ]
  },
  {
   "cell_type": "code",
   "execution_count": null,
   "id": "af9b4a39",
   "metadata": {
    "ExecuteTime": {
     "end_time": "2024-10-05T16:41:19.246076Z",
     "start_time": "2024-10-05T16:41:19.246076Z"
    }
   },
   "outputs": [],
   "source": [
    "display_sarima_metrics_and_predictions(sarima_metrics, sarima_forecasts, mrr_monthly)"
   ]
  },
  {
   "cell_type": "markdown",
   "id": "57c4fc02",
   "metadata": {},
   "source": [
    "## Prophet"
   ]
  },
  {
   "cell_type": "code",
   "execution_count": null,
   "id": "2159cb23",
   "metadata": {
    "ExecuteTime": {
     "end_time": "2024-10-05T16:41:19.246586Z",
     "start_time": "2024-10-05T16:41:19.246586Z"
    }
   },
   "outputs": [],
   "source": [
    "from src.model import get_prophet_predictions, display_metrics_and_predictions\n",
    "from src.plot import plot_prophet_predictions"
   ]
  },
  {
   "cell_type": "markdown",
   "id": "d2ca3554",
   "metadata": {},
   "source": [
    "__Predictions__"
   ]
  },
  {
   "cell_type": "code",
   "execution_count": null,
   "id": "f2704e36",
   "metadata": {
    "ExecuteTime": {
     "end_time": "2024-10-05T16:41:19.248595Z",
     "start_time": "2024-10-05T16:41:19.248595Z"
    }
   },
   "outputs": [],
   "source": [
    "mrr_monthly = df.groupby([pd.Grouper(key='mrr_month', freq='MS'), 'product'])['mrr'].sum().unstack().reset_index()\n",
    "prophet_data, prophet_metrics, prophet_forecasts = get_prophet_predictions(mrr_monthly)"
   ]
  },
  {
   "cell_type": "markdown",
   "id": "c528036e",
   "metadata": {},
   "source": [
    "__Plot__"
   ]
  },
  {
   "cell_type": "code",
   "execution_count": null,
   "id": "a74e4a27",
   "metadata": {
    "ExecuteTime": {
     "end_time": "2024-10-05T16:41:19.249594Z",
     "start_time": "2024-10-05T16:41:19.249594Z"
    },
    "scrolled": false
   },
   "outputs": [],
   "source": [
    "plot_prophet_predictions(prophet_data, prophet_forecasts)"
   ]
  },
  {
   "cell_type": "markdown",
   "id": "ea662a0a",
   "metadata": {},
   "source": [
    "__Metrics__"
   ]
  },
  {
   "cell_type": "code",
   "execution_count": null,
   "id": "647e26e4",
   "metadata": {
    "ExecuteTime": {
     "end_time": "2024-10-05T16:41:19.250594Z",
     "start_time": "2024-10-05T16:41:19.250594Z"
    }
   },
   "outputs": [],
   "source": [
    "display_metrics_and_predictions(prophet_metrics, prophet_forecasts)"
   ]
  },
  {
   "cell_type": "markdown",
   "id": "2b3cb045",
   "metadata": {},
   "source": [
    "# Comparison"
   ]
  },
  {
   "cell_type": "markdown",
   "id": "f5c4d5e5",
   "metadata": {},
   "source": [
    "## Metrics"
   ]
  },
  {
   "cell_type": "code",
   "execution_count": null,
   "id": "cd738fb5",
   "metadata": {
    "ExecuteTime": {
     "end_time": "2024-10-05T16:41:19.252594Z",
     "start_time": "2024-10-05T16:41:19.252594Z"
    }
   },
   "outputs": [],
   "source": [
    "from src.model import get_comparative_metrics\n",
    "\n",
    "df_metrics = get_comparative_metrics(baseline_metrics, sarima_metrics, prophet_metrics)\n",
    "df_metrics.sort_values(by=['Product', 'MAE'])"
   ]
  },
  {
   "cell_type": "markdown",
   "id": "dea4ebb2",
   "metadata": {},
   "source": [
    "Overall observations:\n",
    "- Generally MAE and RMSE are relativelay close to each other, suggesting there is not variance in the errors\n",
    "- ARIMA performs best for the BUSINESS and GURU category, while SMA performs slightly better than ARIMA, although the differences are not very large\n",
    "- Given the simplicity of the SMA vs the ARIMA, I would be inclined to use this model instead of the ARIMA (assuming I don't have any other information available)\n",
    "- PROPHET model seems so stick to the trend too much.\n",
    "\n"
   ]
  },
  {
   "cell_type": "markdown",
   "id": "f4f365a6",
   "metadata": {},
   "source": [
    "## Forecasts"
   ]
  },
  {
   "cell_type": "code",
   "execution_count": null,
   "id": "98c0150c",
   "metadata": {
    "ExecuteTime": {
     "end_time": "2024-10-05T16:41:19.253593Z",
     "start_time": "2024-10-05T16:41:19.253593Z"
    },
    "scrolled": true
   },
   "outputs": [],
   "source": [
    "from src.model import get_comparative_forecasts\n",
    "\n",
    "df_forecast_metrics = get_comparative_forecasts(baseline_future_predictions, prophet_forecasts, sarima_forecasts)\n",
    "df_forecast_metrics"
   ]
  },
  {
   "cell_type": "code",
   "execution_count": null,
   "id": "0fc6bdbd",
   "metadata": {
    "ExecuteTime": {
     "end_time": "2024-10-05T16:41:19.254596Z",
     "start_time": "2024-10-05T16:41:19.254596Z"
    }
   },
   "outputs": [],
   "source": [
    "df_export = df_forecast_metrics.reset_index()\n",
    "df_export = df_export.loc[df_export['Model']=='Simple Moving Average']\n",
    "df_export.to_csv('results/forecast.csv', sep=',', index=False)"
   ]
  },
  {
   "cell_type": "code",
   "execution_count": null,
   "id": "a782d0ee",
   "metadata": {
    "ExecuteTime": {
     "end_time": "2024-10-05T16:41:19.256103Z",
     "start_time": "2024-10-05T16:41:19.256103Z"
    }
   },
   "outputs": [],
   "source": [
    "# used for quick avg calculations\n",
    "# mean_aux_list = []\n",
    "# for product in product_order:\n",
    "#     data = sarima_observed[product]\n",
    "#     mean_aux = data.loc[data.index >= '2017-01-01'].mean()\n",
    "#     mean_aux_list.append(mean_aux)\n",
    "#     print(f\"{product} - Average from 2017: {mean_aux:.2f}\")"
   ]
  },
  {
   "cell_type": "code",
   "execution_count": null,
   "id": "80a0551b",
   "metadata": {},
   "outputs": [],
   "source": []
  },
  {
   "cell_type": "code",
   "execution_count": null,
   "id": "c2adde70",
   "metadata": {},
   "outputs": [],
   "source": []
  },
  {
   "cell_type": "code",
   "execution_count": null,
   "id": "52ae518a",
   "metadata": {},
   "outputs": [],
   "source": []
  },
  {
   "cell_type": "code",
   "execution_count": null,
   "id": "8d910a13",
   "metadata": {},
   "outputs": [],
   "source": []
  },
  {
   "cell_type": "code",
   "execution_count": null,
   "id": "b2ca2823",
   "metadata": {},
   "outputs": [],
   "source": []
  },
  {
   "cell_type": "code",
   "execution_count": null,
   "id": "822e1f1a",
   "metadata": {},
   "outputs": [],
   "source": []
  },
  {
   "cell_type": "code",
   "execution_count": null,
   "id": "cb55e06f",
   "metadata": {},
   "outputs": [],
   "source": []
  }
 ],
 "metadata": {
  "kernelspec": {
   "display_name": "semrush",
   "language": "python",
   "name": "semrush"
  },
  "language_info": {
   "codemirror_mode": {
    "name": "ipython",
    "version": 3
   },
   "file_extension": ".py",
   "mimetype": "text/x-python",
   "name": "python",
   "nbconvert_exporter": "python",
   "pygments_lexer": "ipython3",
   "version": "3.10.14"
  },
  "toc": {
   "base_numbering": 1,
   "nav_menu": {},
   "number_sections": true,
   "sideBar": true,
   "skip_h1_title": false,
   "title_cell": "Table of Contents",
   "title_sidebar": "Contents",
   "toc_cell": false,
   "toc_position": {},
   "toc_section_display": true,
   "toc_window_display": false
  }
 },
 "nbformat": 4,
 "nbformat_minor": 5
}
